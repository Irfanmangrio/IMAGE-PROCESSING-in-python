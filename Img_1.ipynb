{
  "nbformat": 4,
  "nbformat_minor": 0,
  "metadata": {
    "colab": {
      "name": "Img 1.ipynb",
      "private_outputs": true,
      "provenance": [],
      "collapsed_sections": [],
      "mount_file_id": "1QyIiTNogzz24yaW7iaVpZ57YKG_EdHGq",
      "authorship_tag": "ABX9TyMK8fVfqF5+Vqx3XH1wjTPE",
      "include_colab_link": true
    },
    "kernelspec": {
      "name": "python3",
      "display_name": "Python 3"
    },
    "accelerator": "GPU"
  },
  "cells": [
    {
      "cell_type": "markdown",
      "metadata": {
        "id": "view-in-github",
        "colab_type": "text"
      },
      "source": [
        "<a href=\"https://colab.research.google.com/github/Irfanmangrio/IMAGE-PROCESSING-in-python/blob/main/Img_1.ipynb\" target=\"_parent\"><img src=\"https://colab.research.google.com/assets/colab-badge.svg\" alt=\"Open In Colab\"/></a>"
      ]
    },
    {
      "cell_type": "markdown",
      "metadata": {
        "id": "lsXl4twB8OgQ"
      },
      "source": [
        "**Let us Load the Dependencies on Google colab**."
      ]
    },
    {
      "cell_type": "markdown",
      "metadata": {
        "id": "RVOvSdZR8ejX"
      },
      "source": [
        "**library Code**"
      ]
    },
    {
      "cell_type": "code",
      "metadata": {
        "id": "qyDLmjBa9Aoi"
      },
      "source": [
        "import numpy as np\n",
        "import pandas as pd\n",
        "import cv2 as cv\n",
        "from google.colab.patches import cv2_imshow    \n",
        "from skimage import io\n",
        "from PIL import Image\n",
        "import matplotlib.pylab as plt"
      ],
      "execution_count": null,
      "outputs": []
    },
    {
      "cell_type": "markdown",
      "metadata": {
        "id": "DifLci7F8qqD"
      },
      "source": [
        "**library code finish**"
      ]
    },
    {
      "cell_type": "markdown",
      "metadata": {
        "id": "Omev4Zzv0hsI"
      },
      "source": [
        "open image in google google colab"
      ]
    },
    {
      "cell_type": "code",
      "metadata": {
        "id": "wOhizAXyOmE6"
      },
      "source": [
        "import numpy as np\n",
        "import cv2\n",
        "import pandas as pd\n"
      ],
      "execution_count": null,
      "outputs": []
    },
    {
      "cell_type": "code",
      "metadata": {
        "id": "3_X9FZK0yFs6"
      },
      "source": [
        "from google.colab import files\n",
        "from IPython.display import Image"
      ],
      "execution_count": null,
      "outputs": []
    },
    {
      "cell_type": "code",
      "metadata": {
        "id": "MHObPMk3yqrN"
      },
      "source": [
        "Upload = files.upload()"
      ],
      "execution_count": null,
      "outputs": []
    },
    {
      "cell_type": "code",
      "metadata": {
        "id": "It-C10F8y-N8"
      },
      "source": [
        "Image('IMG-20200303-WA0069.jpg',\n",
        "       width =525)"
      ],
      "execution_count": null,
      "outputs": []
    },
    {
      "cell_type": "code",
      "metadata": {
        "id": "vCWELn0AM3lp"
      },
      "source": [
        " \n",
        " img= cv2.imread('/content/IMG-20200303-WA0069.jpg')\n"
      ],
      "execution_count": null,
      "outputs": []
    },
    {
      "cell_type": "markdown",
      "metadata": {
        "id": "CjPlAlIV0Y-g"
      },
      "source": [
        "**open image in google colab finish**"
      ]
    },
    {
      "cell_type": "code",
      "metadata": {
        "id": "17JHFaoz8Egq"
      },
      "source": [
        "2nd Met"
      ],
      "execution_count": null,
      "outputs": []
    },
    {
      "cell_type": "markdown",
      "metadata": {
        "id": "WGL72fb68Jao"
      },
      "source": [
        "**2nd** **Method**"
      ]
    },
    {
      "cell_type": "markdown",
      "metadata": {
        "id": "fNx_FIgI9PBb"
      },
      "source": [
        "**Img By Url Start**\n",
        "\n"
      ]
    },
    {
      "cell_type": "code",
      "metadata": {
        "id": "6RaJnqv09bdc"
      },
      "source": [
        "urls = [\"https://iiif.lib.ncsu.edu/iiif/0052574/full/800,/0/default.jpg\",\n",
        "\"https://iiif.lib.ncsu.edu/iiif/0016007/full/800,/0/default.jpg\",\n",
        "\"https://placekitten.com/800/571\"]\n",
        "for url in urls:\n",
        "image = io.imread(url)\n",
        "image_2 = cv.cvtColor(image, cv.COLOR_BGR2RGB)\n",
        "final_frame = cv.hconcat((image, image_2))\n",
        "cv2_imshow(final_frame)\n",
        "print('\\n')"
      ],
      "execution_count": null,
      "outputs": []
    },
    {
      "cell_type": "code",
      "metadata": {
        "id": "E9QmshpMOo8w"
      },
      "source": [
        "import cv2\n",
        "img = cv2.imread('content/gdrive/My Drive/content/IMG-20200303-WA0069.jpg')\n",
        "print(type(img))"
      ],
      "execution_count": null,
      "outputs": []
    }
  ]
}